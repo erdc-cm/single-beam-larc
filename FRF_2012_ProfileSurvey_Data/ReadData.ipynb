{
 "metadata": {
  "name": "",
  "signature": "sha256:8ee9a2690dc49d6c00310028a8d1bccc3ea1c793a6c7b9248d85b96ef413a4b5"
 },
 "nbformat": 3,
 "nbformat_minor": 0,
 "worksheets": [
  {
   "cells": [
    {
     "cell_type": "code",
     "collapsed": false,
     "input": [
      "!ls"
     ],
     "language": "python",
     "metadata": {},
     "outputs": []
    },
    {
     "cell_type": "code",
     "collapsed": false,
     "input": [
      "import numpy as np\n",
      "csvArray = np.genfromtxt(fname='FRF_FRF_2012_0214_0745_NAVD88_LARC_GPS.csv',delimiter=',',skip_header=0,names=('id','line_number','lat','lon','x','y','z'),usecols=(0,1,3,4,7,8,9))"
     ],
     "language": "python",
     "metadata": {},
     "outputs": []
    },
    {
     "cell_type": "code",
     "collapsed": false,
     "input": [
      "csvArray"
     ],
     "language": "python",
     "metadata": {},
     "outputs": []
    },
    {
     "cell_type": "code",
     "collapsed": false,
     "input": [
      "csvArray['y']"
     ],
     "language": "python",
     "metadata": {},
     "outputs": []
    },
    {
     "cell_type": "code",
     "collapsed": false,
     "input": [
      "%matplotlib inline\n",
      "from mpl_toolkits.mplot3d import Axes3D\n",
      "import matplotlib.pyplot as plt\n",
      "\n",
      "fig = plt.figure(figsize=(12,12))\n",
      "ax = fig.add_subplot(111, projection='3d')\n",
      "ax.scatter(csvArray['x'],csvArray['y'],csvArray['z'],c=csvArray['z'])\n",
      "ax.set_xlabel('X Label')\n",
      "ax.set_ylabel('Y Label')\n",
      "ax.set_zlabel('Z Label')\n",
      "plt.show()"
     ],
     "language": "python",
     "metadata": {},
     "outputs": []
    },
    {
     "cell_type": "code",
     "collapsed": false,
     "input": [
      "from mpl_toolkits.mplot3d import Axes3D\n",
      "from matplotlib import cm\n",
      "import matplotlib.pyplot as plt\n",
      "import numpy as np\n",
      "\n",
      "fig = plt.figure(figsize=(12,12))\n",
      "ax = fig.gca(projection='3d')\n",
      "ax.plot_trisurf(csvArray['x'],csvArray['y'],csvArray['z'], cmap=cm.jet, linewidth=0.0)\n",
      "plt.show()"
     ],
     "language": "python",
     "metadata": {},
     "outputs": []
    },
    {
     "cell_type": "code",
     "collapsed": false,
     "input": [
      "plt.figure(figsize=(12,12))\n",
      "plt.tricontourf(csvArray['x'],csvArray['y'],csvArray['z'])\n",
      "plt.savefig(\"FRF_contour.png\")\n",
      "plt.show()"
     ],
     "language": "python",
     "metadata": {},
     "outputs": []
    },
    {
     "cell_type": "code",
     "collapsed": false,
     "input": [
      "import simplekml\n",
      "kml = simplekml.Kml()\n",
      "for x,y,z in zip(csvArray['lat'],csvArray['lon'],csvArray['z']):\n",
      "    kml.newpoint(coords=[(x,y,z)])  # lon, lat, optional height\n",
      "kml.save(\"FRF_FRF_2012_0214_0745_NAVD88_LARC_GPS.kml\")"
     ],
     "language": "python",
     "metadata": {},
     "outputs": []
    }
   ],
   "metadata": {}
  }
 ]
}